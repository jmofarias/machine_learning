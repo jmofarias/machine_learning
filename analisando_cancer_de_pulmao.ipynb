{
  "nbformat": 4,
  "nbformat_minor": 0,
  "metadata": {
    "colab": {
      "name": "Analisando Cancer de Pulmao.ipynb",
      "provenance": [],
      "authorship_tag": "ABX9TyPXiAkJKbdHtn5x0Bp6MAxm",
      "include_colab_link": true
    },
    "kernelspec": {
      "name": "python3",
      "display_name": "Python 3"
    }
  },
  "cells": [
    {
      "cell_type": "markdown",
      "metadata": {
        "id": "view-in-github",
        "colab_type": "text"
      },
      "source": [
        "<a href=\"https://colab.research.google.com/github/jmofarias/machine_learning/blob/master/analisando_cancer_de_pulmao.ipynb\" target=\"_parent\"><img src=\"https://colab.research.google.com/assets/colab-badge.svg\" alt=\"Open In Colab\"/></a>"
      ]
    },
    {
      "cell_type": "markdown",
      "metadata": {
        "id": "_05ocIjN16Uv",
        "colab_type": "text"
      },
      "source": [
        "## **Dados de Câncer de Pulmão**"
      ]
    },
    {
      "cell_type": "markdown",
      "metadata": {
        "id": "nQixv3IN5SHB",
        "colab_type": "text"
      },
      "source": [
        "* Dataset:"
      ]
    }
  ]
}