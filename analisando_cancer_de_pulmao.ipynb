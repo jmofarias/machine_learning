{
  "nbformat": 4,
  "nbformat_minor": 0,
  "metadata": {
    "colab": {
      "name": "Analisando Cancer de Pulmao.ipynb",
      "provenance": [],
      "collapsed_sections": []
    },
    "kernelspec": {
      "name": "python3",
      "display_name": "Python 3"
    }
  },
  "cells": [
    {
      "cell_type": "markdown",
      "metadata": {
        "id": "_05ocIjN16Uv",
        "colab_type": "text"
      },
      "source": [
        "## **Dados de Câncer de Pulmão**"
      ]
    },
    {
      "cell_type": "markdown",
      "metadata": {
        "id": "nQixv3IN5SHB",
        "colab_type": "text"
      },
      "source": [
        "* Dataset: link"
      ]
    }
  ]
}