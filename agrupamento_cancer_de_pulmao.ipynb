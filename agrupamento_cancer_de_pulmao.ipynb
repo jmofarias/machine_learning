{
  "nbformat": 4,
  "nbformat_minor": 0,
  "metadata": {
    "colab": {
      "name": "Agrupamento Cancer de Pulmao.ipynb",
      "provenance": [],
      "authorship_tag": "ABX9TyO7WYdMwqzeMg5r1HlV16UP",
      "include_colab_link": true
    },
    "kernelspec": {
      "name": "python3",
      "display_name": "Python 3"
    }
  },
  "cells": [
    {
      "cell_type": "markdown",
      "metadata": {
        "id": "view-in-github",
        "colab_type": "text"
      },
      "source": [
        "<a href=\"https://colab.research.google.com/github/jmofarias/machine_learning/blob/master/agrupamento_cancer_de_pulmao.ipynb\" target=\"_parent\"><img src=\"https://colab.research.google.com/assets/colab-badge.svg\" alt=\"Open In Colab\"/></a>"
      ]
    },
    {
      "cell_type": "markdown",
      "metadata": {
        "id": "Z1SzNytx3SOr",
        "colab_type": "text"
      },
      "source": [
        "# **Analisando Agrupamento**"
      ]
    },
    {
      "cell_type": "markdown",
      "metadata": {
        "id": "HuTNDXKv3ckp",
        "colab_type": "text"
      },
      "source": [
        "* Dataset com dados referentes ao câncer de pulmão.\n",
        "* [Long Cancer](https://www.kaggle.com/yusufdede/lung-cancer-dataset)"
      ]
    },
    {
      "cell_type": "code",
      "metadata": {
        "id": "KajxAFlC3vyi",
        "colab_type": "code",
        "colab": {
          "base_uri": "https://localhost:8080/",
          "height": 34
        },
        "outputId": "df42a0c2-2df9-44f7-d663-ca84e5f7db91"
      },
      "source": [
        "from google.colab import drive\n",
        "drive.mount('/content/drive/')"
      ],
      "execution_count": 1,
      "outputs": [
        {
          "output_type": "stream",
          "text": [
            "Mounted at /content/drive/\n"
          ],
          "name": "stdout"
        }
      ]
    },
    {
      "cell_type": "markdown",
      "metadata": {
        "id": "PtS62M2D35ui",
        "colab_type": "text"
      },
      "source": [
        "## 1. Importando Bibliotecas"
      ]
    },
    {
      "cell_type": "code",
      "metadata": {
        "id": "dT8HZiU74LZz",
        "colab_type": "code",
        "colab": {}
      },
      "source": [
        "# importando bibliotecas\n",
        "import pandas as pd\n",
        "import matplotlib.pyplot as plt\n",
        "from mpl_toolkits.mplot3d import Axes3D\n",
        "from sklearn.model_selection import train_test_split\n",
        "from sklearn.cluster import KMeans"
      ],
      "execution_count": 2,
      "outputs": []
    },
    {
      "cell_type": "markdown",
      "metadata": {
        "id": "g-mA2N7P4SOj",
        "colab_type": "text"
      },
      "source": [
        "## 2. Leitura dos dados utilizando a biblioteca Pandas"
      ]
    },
    {
      "cell_type": "code",
      "metadata": {
        "id": "t2BxeVSJ4TSS",
        "colab_type": "code",
        "colab": {}
      },
      "source": [
        "# lendo csv e armazenando em um dataframe\n",
        "dados = pd.read_csv('/content/drive/My Drive/Colab Notebooks/Machine_Learning/Datasets/lung_cancer_examples.csv')"
      ],
      "execution_count": 3,
      "outputs": []
    },
    {
      "cell_type": "code",
      "metadata": {
        "id": "RElwP7Ty4ZFT",
        "colab_type": "code",
        "colab": {
          "base_uri": "https://localhost:8080/",
          "height": 204
        },
        "outputId": "a9512ea2-8e3f-4546-85ca-e85484737025"
      },
      "source": [
        "dados.head()"
      ],
      "execution_count": 4,
      "outputs": [
        {
          "output_type": "execute_result",
          "data": {
            "text/html": [
              "<div>\n",
              "<style scoped>\n",
              "    .dataframe tbody tr th:only-of-type {\n",
              "        vertical-align: middle;\n",
              "    }\n",
              "\n",
              "    .dataframe tbody tr th {\n",
              "        vertical-align: top;\n",
              "    }\n",
              "\n",
              "    .dataframe thead th {\n",
              "        text-align: right;\n",
              "    }\n",
              "</style>\n",
              "<table border=\"1\" class=\"dataframe\">\n",
              "  <thead>\n",
              "    <tr style=\"text-align: right;\">\n",
              "      <th></th>\n",
              "      <th>Name</th>\n",
              "      <th>Surname</th>\n",
              "      <th>Age</th>\n",
              "      <th>Smokes</th>\n",
              "      <th>AreaQ</th>\n",
              "      <th>Alkhol</th>\n",
              "      <th>Result</th>\n",
              "    </tr>\n",
              "  </thead>\n",
              "  <tbody>\n",
              "    <tr>\n",
              "      <th>0</th>\n",
              "      <td>John</td>\n",
              "      <td>Wick</td>\n",
              "      <td>35</td>\n",
              "      <td>3</td>\n",
              "      <td>5</td>\n",
              "      <td>4</td>\n",
              "      <td>1</td>\n",
              "    </tr>\n",
              "    <tr>\n",
              "      <th>1</th>\n",
              "      <td>John</td>\n",
              "      <td>Constantine</td>\n",
              "      <td>27</td>\n",
              "      <td>20</td>\n",
              "      <td>2</td>\n",
              "      <td>5</td>\n",
              "      <td>1</td>\n",
              "    </tr>\n",
              "    <tr>\n",
              "      <th>2</th>\n",
              "      <td>Camela</td>\n",
              "      <td>Anderson</td>\n",
              "      <td>30</td>\n",
              "      <td>0</td>\n",
              "      <td>5</td>\n",
              "      <td>2</td>\n",
              "      <td>0</td>\n",
              "    </tr>\n",
              "    <tr>\n",
              "      <th>3</th>\n",
              "      <td>Alex</td>\n",
              "      <td>Telles</td>\n",
              "      <td>28</td>\n",
              "      <td>0</td>\n",
              "      <td>8</td>\n",
              "      <td>1</td>\n",
              "      <td>0</td>\n",
              "    </tr>\n",
              "    <tr>\n",
              "      <th>4</th>\n",
              "      <td>Diego</td>\n",
              "      <td>Maradona</td>\n",
              "      <td>68</td>\n",
              "      <td>4</td>\n",
              "      <td>5</td>\n",
              "      <td>6</td>\n",
              "      <td>1</td>\n",
              "    </tr>\n",
              "  </tbody>\n",
              "</table>\n",
              "</div>"
            ],
            "text/plain": [
              "     Name      Surname  Age  Smokes  AreaQ  Alkhol  Result\n",
              "0    John         Wick   35       3      5       4       1\n",
              "1    John  Constantine   27      20      2       5       1\n",
              "2  Camela     Anderson   30       0      5       2       0\n",
              "3    Alex       Telles   28       0      8       1       0\n",
              "4   Diego     Maradona   68       4      5       6       1"
            ]
          },
          "metadata": {
            "tags": []
          },
          "execution_count": 4
        }
      ]
    },
    {
      "cell_type": "markdown",
      "metadata": {
        "id": "LmiY80rA4csn",
        "colab_type": "text"
      },
      "source": [
        "## 3. Limpeza e organização dos dados"
      ]
    },
    {
      "cell_type": "code",
      "metadata": {
        "id": "a7ITGKPA4tkD",
        "colab_type": "code",
        "colab": {
          "base_uri": "https://localhost:8080/",
          "height": 204
        },
        "outputId": "119e4b93-c821-481b-d65f-52669e0cc7aa"
      },
      "source": [
        "# excluir colunas irrelevantes\n",
        "dados = dados.drop(columns=['Name', 'Surname'])\n",
        "dados.head()"
      ],
      "execution_count": 5,
      "outputs": [
        {
          "output_type": "execute_result",
          "data": {
            "text/html": [
              "<div>\n",
              "<style scoped>\n",
              "    .dataframe tbody tr th:only-of-type {\n",
              "        vertical-align: middle;\n",
              "    }\n",
              "\n",
              "    .dataframe tbody tr th {\n",
              "        vertical-align: top;\n",
              "    }\n",
              "\n",
              "    .dataframe thead th {\n",
              "        text-align: right;\n",
              "    }\n",
              "</style>\n",
              "<table border=\"1\" class=\"dataframe\">\n",
              "  <thead>\n",
              "    <tr style=\"text-align: right;\">\n",
              "      <th></th>\n",
              "      <th>Age</th>\n",
              "      <th>Smokes</th>\n",
              "      <th>AreaQ</th>\n",
              "      <th>Alkhol</th>\n",
              "      <th>Result</th>\n",
              "    </tr>\n",
              "  </thead>\n",
              "  <tbody>\n",
              "    <tr>\n",
              "      <th>0</th>\n",
              "      <td>35</td>\n",
              "      <td>3</td>\n",
              "      <td>5</td>\n",
              "      <td>4</td>\n",
              "      <td>1</td>\n",
              "    </tr>\n",
              "    <tr>\n",
              "      <th>1</th>\n",
              "      <td>27</td>\n",
              "      <td>20</td>\n",
              "      <td>2</td>\n",
              "      <td>5</td>\n",
              "      <td>1</td>\n",
              "    </tr>\n",
              "    <tr>\n",
              "      <th>2</th>\n",
              "      <td>30</td>\n",
              "      <td>0</td>\n",
              "      <td>5</td>\n",
              "      <td>2</td>\n",
              "      <td>0</td>\n",
              "    </tr>\n",
              "    <tr>\n",
              "      <th>3</th>\n",
              "      <td>28</td>\n",
              "      <td>0</td>\n",
              "      <td>8</td>\n",
              "      <td>1</td>\n",
              "      <td>0</td>\n",
              "    </tr>\n",
              "    <tr>\n",
              "      <th>4</th>\n",
              "      <td>68</td>\n",
              "      <td>4</td>\n",
              "      <td>5</td>\n",
              "      <td>6</td>\n",
              "      <td>1</td>\n",
              "    </tr>\n",
              "  </tbody>\n",
              "</table>\n",
              "</div>"
            ],
            "text/plain": [
              "   Age  Smokes  AreaQ  Alkhol  Result\n",
              "0   35       3      5       4       1\n",
              "1   27      20      2       5       1\n",
              "2   30       0      5       2       0\n",
              "3   28       0      8       1       0\n",
              "4   68       4      5       6       1"
            ]
          },
          "metadata": {
            "tags": []
          },
          "execution_count": 5
        }
      ]
    },
    {
      "cell_type": "markdown",
      "metadata": {
        "id": "SvKC-R3q4ydL",
        "colab_type": "text"
      },
      "source": [
        "## 4. Re-escala dos dados"
      ]
    },
    {
      "cell_type": "code",
      "metadata": {
        "id": "8H4Yjnbo4_8M",
        "colab_type": "code",
        "colab": {}
      },
      "source": [
        "# re-escala dos dados\n",
        "dados = (dados - dados.min())/(dados.max()-dados.min())"
      ],
      "execution_count": 7,
      "outputs": []
    },
    {
      "cell_type": "markdown",
      "metadata": {
        "id": "uX_cBohyEgum",
        "colab_type": "text"
      },
      "source": [
        "## 5. Organização dos dados para modelagem"
      ]
    },
    {
      "cell_type": "code",
      "metadata": {
        "id": "-lVlJgZXElgE",
        "colab_type": "code",
        "colab": {
          "base_uri": "https://localhost:8080/",
          "height": 204
        },
        "outputId": "a0257a85-47d1-408e-8eb1-620e4a996af0"
      },
      "source": [
        "# dados em atributos descritores e de classe\n",
        "x = dados.iloc[:,0:4]\n",
        "x.head()"
      ],
      "execution_count": 9,
      "outputs": [
        {
          "output_type": "execute_result",
          "data": {
            "text/html": [
              "<div>\n",
              "<style scoped>\n",
              "    .dataframe tbody tr th:only-of-type {\n",
              "        vertical-align: middle;\n",
              "    }\n",
              "\n",
              "    .dataframe tbody tr th {\n",
              "        vertical-align: top;\n",
              "    }\n",
              "\n",
              "    .dataframe thead th {\n",
              "        text-align: right;\n",
              "    }\n",
              "</style>\n",
              "<table border=\"1\" class=\"dataframe\">\n",
              "  <thead>\n",
              "    <tr style=\"text-align: right;\">\n",
              "      <th></th>\n",
              "      <th>Age</th>\n",
              "      <th>Smokes</th>\n",
              "      <th>AreaQ</th>\n",
              "      <th>Alkhol</th>\n",
              "    </tr>\n",
              "  </thead>\n",
              "  <tbody>\n",
              "    <tr>\n",
              "      <th>0</th>\n",
              "      <td>0.288136</td>\n",
              "      <td>0.088235</td>\n",
              "      <td>0.444444</td>\n",
              "      <td>0.500</td>\n",
              "    </tr>\n",
              "    <tr>\n",
              "      <th>1</th>\n",
              "      <td>0.152542</td>\n",
              "      <td>0.588235</td>\n",
              "      <td>0.111111</td>\n",
              "      <td>0.625</td>\n",
              "    </tr>\n",
              "    <tr>\n",
              "      <th>2</th>\n",
              "      <td>0.203390</td>\n",
              "      <td>0.000000</td>\n",
              "      <td>0.444444</td>\n",
              "      <td>0.250</td>\n",
              "    </tr>\n",
              "    <tr>\n",
              "      <th>3</th>\n",
              "      <td>0.169492</td>\n",
              "      <td>0.000000</td>\n",
              "      <td>0.777778</td>\n",
              "      <td>0.125</td>\n",
              "    </tr>\n",
              "    <tr>\n",
              "      <th>4</th>\n",
              "      <td>0.847458</td>\n",
              "      <td>0.117647</td>\n",
              "      <td>0.444444</td>\n",
              "      <td>0.750</td>\n",
              "    </tr>\n",
              "  </tbody>\n",
              "</table>\n",
              "</div>"
            ],
            "text/plain": [
              "        Age    Smokes     AreaQ  Alkhol\n",
              "0  0.288136  0.088235  0.444444   0.500\n",
              "1  0.152542  0.588235  0.111111   0.625\n",
              "2  0.203390  0.000000  0.444444   0.250\n",
              "3  0.169492  0.000000  0.777778   0.125\n",
              "4  0.847458  0.117647  0.444444   0.750"
            ]
          },
          "metadata": {
            "tags": []
          },
          "execution_count": 9
        }
      ]
    },
    {
      "cell_type": "code",
      "metadata": {
        "id": "Qt4XAoRGFFbV",
        "colab_type": "code",
        "colab": {
          "base_uri": "https://localhost:8080/",
          "height": 119
        },
        "outputId": "51978575-906e-4891-d84a-ae9b6c4d4b64"
      },
      "source": [
        "# dados em atributos de classe\n",
        "y = dados.Result\n",
        "y.head()"
      ],
      "execution_count": 10,
      "outputs": [
        {
          "output_type": "execute_result",
          "data": {
            "text/plain": [
              "0    1.0\n",
              "1    1.0\n",
              "2    0.0\n",
              "3    0.0\n",
              "4    1.0\n",
              "Name: Result, dtype: float64"
            ]
          },
          "metadata": {
            "tags": []
          },
          "execution_count": 10
        }
      ]
    },
    {
      "cell_type": "markdown",
      "metadata": {
        "id": "0REOI6p1FPa0",
        "colab_type": "text"
      },
      "source": [
        "## 6. Algoritmo de agrupamento"
      ]
    },
    {
      "cell_type": "markdown",
      "metadata": {
        "id": "jj1sW6zOFbwG",
        "colab_type": "text"
      },
      "source": [
        "### Criação do modelo e ajuste dos dados"
      ]
    },
    {
      "cell_type": "code",
      "metadata": {
        "id": "2l8WUlLIFjKN",
        "colab_type": "code",
        "colab": {
          "base_uri": "https://localhost:8080/",
          "height": 68
        },
        "outputId": "04f5b254-6e9f-4cdb-dd63-4767b0a28d2b"
      },
      "source": [
        "# agrupamento\n",
        "kmeans = KMeans(n_clusters=2)\n",
        "kmeans.fit(x)"
      ],
      "execution_count": 11,
      "outputs": [
        {
          "output_type": "execute_result",
          "data": {
            "text/plain": [
              "KMeans(algorithm='auto', copy_x=True, init='k-means++', max_iter=300,\n",
              "       n_clusters=2, n_init=10, n_jobs=None, precompute_distances='auto',\n",
              "       random_state=None, tol=0.0001, verbose=0)"
            ]
          },
          "metadata": {
            "tags": []
          },
          "execution_count": 11
        }
      ]
    },
    {
      "cell_type": "markdown",
      "metadata": {
        "id": "VHNXdzj-Fvs0",
        "colab_type": "text"
      },
      "source": [
        "### Modelo sobre os dados de teste"
      ]
    },
    {
      "cell_type": "code",
      "metadata": {
        "id": "tOR2bawlFzrV",
        "colab_type": "code",
        "colab": {
          "base_uri": "https://localhost:8080/",
          "height": 68
        },
        "outputId": "8a5edb79-fb89-4921-ad69-ebf143fb555f"
      },
      "source": [
        "kmeans_labels = kmeans.predict(x)\n",
        "kmeans_labels"
      ],
      "execution_count": 12,
      "outputs": [
        {
          "output_type": "execute_result",
          "data": {
            "text/plain": [
              "array([0, 1, 0, 0, 1, 0, 0, 0, 0, 1, 0, 0, 0, 1, 1, 0, 1, 0, 1, 1, 1, 0,\n",
              "       0, 0, 1, 0, 0, 0, 1, 1, 0, 1, 1, 1, 0, 0, 1, 1, 0, 0, 1, 0, 1, 1,\n",
              "       0, 0, 0, 0, 1, 1, 0, 1, 1, 0, 0, 1, 1, 1, 0], dtype=int32)"
            ]
          },
          "metadata": {
            "tags": []
          },
          "execution_count": 12
        }
      ]
    },
    {
      "cell_type": "markdown",
      "metadata": {
        "id": "ZcnrGJYTF7Sm",
        "colab_type": "text"
      },
      "source": [
        "### Visualização dos resultados"
      ]
    },
    {
      "cell_type": "code",
      "metadata": {
        "id": "ovDTURBQGBBV",
        "colab_type": "code",
        "colab": {}
      },
      "source": [
        "x = x.reset_index(drop=True)"
      ],
      "execution_count": 13,
      "outputs": []
    },
    {
      "cell_type": "code",
      "metadata": {
        "id": "eQoPTeiKGFbE",
        "colab_type": "code",
        "colab": {}
      },
      "source": [
        "# adicionando as labels ao teste\n",
        "grupos = pd.DataFrame(kmeans_labels)\n",
        "x.insert((x.shape[1]),'Result',grupos)"
      ],
      "execution_count": 16,
      "outputs": []
    },
    {
      "cell_type": "code",
      "metadata": {
        "id": "sbUzyQuIGaxe",
        "colab_type": "code",
        "colab": {}
      },
      "source": [
        "benigno = x[x['Result']==0]\n",
        "maligno = x[x['Result']==1]"
      ],
      "execution_count": 17,
      "outputs": []
    },
    {
      "cell_type": "code",
      "metadata": {
        "id": "bez2sI2uGryl",
        "colab_type": "code",
        "colab": {}
      },
      "source": [
        "plt.rcParams[\"figure.figsize\"] = (8,5)"
      ],
      "execution_count": 23,
      "outputs": []
    },
    {
      "cell_type": "code",
      "metadata": {
        "id": "eFrS7ZR9GwGH",
        "colab_type": "code",
        "colab": {
          "base_uri": "https://localhost:8080/",
          "height": 303
        },
        "outputId": "7504e6b1-d2fb-4ac0-9672-7974ae666eef"
      },
      "source": [
        "# plotando alguns atributos das classes\n",
        "ax = plt.axes(projection='3d')\n",
        "ax.scatter3D(benigno.Smokes,benigno.AreaQ,benigno.Alkhol,s=100,label='benigno')\n",
        "ax.scatter3D(maligno.Smokes,maligno.AreaQ,maligno.Alkhol,s=100,label='maligno')\n",
        "plt.legend()\n",
        "ax.set_xlabel('fumantes')\n",
        "ax.set_ylabel('área')\n",
        "ax.set_zlabel('alcoólicos')\n",
        "plt.title('Fumantes, Área e Alcoólicos')\n",
        "plt.show()"
      ],
      "execution_count": 26,
      "outputs": [
        {
          "output_type": "display_data",
          "data": {
            "image/png": "[encoded data removed]",
            "text/plain": [
              "<Figure size 576x360 with 1 Axes>"
            ]
          },
          "metadata": {
            "tags": [],
            "needs_background": "light"
          }
        }
      ]
    },
    {
      "cell_type": "code",
      "metadata": {
        "id": "O2x1BzaiH--o",
        "colab_type": "code",
        "colab": {
          "base_uri": "https://localhost:8080/",
          "height": 303
        },
        "outputId": "46faeb6c-4763-4da6-8e76-6df18921796f"
      },
      "source": [
        "ax = plt.axes(projection='3d')\n",
        "ax.scatter3D(benigno.Smokes,benigno.Age,benigno.Alkhol,s=100,label='benigno')\n",
        "ax.scatter3D(maligno.Smokes,maligno.Age,maligno.Alkhol,s=100,label='maligno')\n",
        "plt.legend()\n",
        "ax.set_xlabel('fumantes')\n",
        "ax.set_ylabel('idade')\n",
        "ax.set_zlabel('alcoólicos')\n",
        "plt.title('Fumantes, Idade e Alcoólicos')\n",
        "plt.show()"
      ],
      "execution_count": 27,
      "outputs": [
        {
          "output_type": "display_data",
          "data": {
            "image/png": "[encoded data removed]",
            "text/plain": [
              "<Figure size 576x360 with 1 Axes>"
            ]
          },
          "metadata": {
            "tags": [],
            "needs_background": "light"
          }
        }
      ]
    },
    {
      "cell_type": "code",
      "metadata": {
        "id": "8ljzlDgkI2W8",
        "colab_type": "code",
        "colab": {}
      },
      "source": [
        "plt.rcParams[\"figure.figsize\"] = (25,20)"
      ],
      "execution_count": 28,
      "outputs": []
    },
    {
      "cell_type": "code",
      "metadata": {
        "id": "k_NZtaWQI5YP",
        "colab_type": "code",
        "colab": {
          "base_uri": "https://localhost:8080/",
          "height": 991
        },
        "outputId": "bca8424e-83e5-484c-dfae-32e1df5c582a"
      },
      "source": [
        "# plotando a comparação de alguns atributos\n",
        "fig, axs = plt.subplots(3,3)\n",
        "for i in range(3):\n",
        "  for j in range(3):\n",
        "    axs[i,j].scatter(benigno.iloc[i],benigno.iloc[j],label='benigno')\n",
        "    axs[i,j].scatter(maligno.iloc[i],maligno.iloc[j],label='maligno')\n",
        "    axs[i,j].set(xlabel=x.columns[i],ylabel=x.columns[j])\n",
        "plt.legend()\n",
        "plt.show()"
      ],
      "execution_count": 33,
      "outputs": [
        {
          "output_type": "display_data",
          "data": {
            "image/png": "[encoded data removed]",
            "text/plain": [
              "<Figure size 1800x1440 with 9 Axes>"
            ]
          },
          "metadata": {
            "tags": [],
            "needs_background": "light"
          }
        }
      ]
    },
    {
      "cell_type": "markdown",
      "metadata": {
        "id": "EwxTmIuMKGQm",
        "colab_type": "text"
      },
      "source": [
        "## 7. Avaliando modelo"
      ]
    },
    {
      "cell_type": "markdown",
      "metadata": {
        "id": "GCTXrtTVKQZu",
        "colab_type": "text"
      },
      "source": [
        "### Acurácia"
      ]
    },
    {
      "cell_type": "code",
      "metadata": {
        "id": "LQ4WL_FVKU6O",
        "colab_type": "code",
        "colab": {}
      },
      "source": [
        "from sklearn.metrics import accuracy_score"
      ],
      "execution_count": 34,
      "outputs": []
    },
    {
      "cell_type": "code",
      "metadata": {
        "id": "yuki7pViKYbG",
        "colab_type": "code",
        "colab": {
          "base_uri": "https://localhost:8080/",
          "height": 34
        },
        "outputId": "a119013c-9ba5-43c4-dfcb-58ba470e7c13"
      },
      "source": [
        "acuracia = accuracy_score(y,kmeans_labels)\n",
        "round(acuracia,3)"
      ],
      "execution_count": 35,
      "outputs": [
        {
          "output_type": "execute_result",
          "data": {
            "text/plain": [
              "0.983"
            ]
          },
          "metadata": {
            "tags": []
          },
          "execution_count": 35
        }
      ]
    },
    {
      "cell_type": "markdown",
      "metadata": {
        "id": "_Kqy1_IyKfQR",
        "colab_type": "text"
      },
      "source": [
        "### Índice Rand Ajustado"
      ]
    },
    {
      "cell_type": "code",
      "metadata": {
        "id": "AKARSRjiKh6X",
        "colab_type": "code",
        "colab": {}
      },
      "source": [
        "from sklearn.metrics import adjusted_rand_score"
      ],
      "execution_count": 36,
      "outputs": []
    },
    {
      "cell_type": "code",
      "metadata": {
        "id": "gpBuK_ROKlU2",
        "colab_type": "code",
        "colab": {
          "base_uri": "https://localhost:8080/",
          "height": 34
        },
        "outputId": "488431f1-07aa-477b-daca-e240feb8f811"
      },
      "source": [
        "rand_score = adjusted_rand_score(y,kmeans_labels)\n",
        "rand_score"
      ],
      "execution_count": 37,
      "outputs": [
        {
          "output_type": "execute_result",
          "data": {
            "text/plain": [
              "0.9321935460948325"
            ]
          },
          "metadata": {
            "tags": []
          },
          "execution_count": 37
        }
      ]
    },
    {
      "cell_type": "markdown",
      "metadata": {
        "id": "46JO1HDbKqqo",
        "colab_type": "text"
      },
      "source": [
        "### Scores baseados em informação mútua"
      ]
    },
    {
      "cell_type": "code",
      "metadata": {
        "id": "imvOJiXQKt1G",
        "colab_type": "code",
        "colab": {}
      },
      "source": [
        "from sklearn.metrics import adjusted_mutual_info_score"
      ],
      "execution_count": 39,
      "outputs": []
    },
    {
      "cell_type": "code",
      "metadata": {
        "id": "_jjJ8TqMKuWO",
        "colab_type": "code",
        "colab": {
          "base_uri": "https://localhost:8080/",
          "height": 34
        },
        "outputId": "1c4b7c94-ccfe-445e-87d6-f830d27c18a5"
      },
      "source": [
        "mutual_info = adjusted_mutual_info_score(y,kmeans_labels)\n",
        "mutual_info"
      ],
      "execution_count": 40,
      "outputs": [
        {
          "output_type": "execute_result",
          "data": {
            "text/plain": [
              "0.8910974784396462"
            ]
          },
          "metadata": {
            "tags": []
          },
          "execution_count": 40
        }
      ]
    },
    {
      "cell_type": "markdown",
      "metadata": {
        "id": "VE3kL92TK8du",
        "colab_type": "text"
      },
      "source": [
        "### Fowlkes-Mallows scores"
      ]
    },
    {
      "cell_type": "code",
      "metadata": {
        "id": "jgyYPaS1K9oZ",
        "colab_type": "code",
        "colab": {}
      },
      "source": [
        "from sklearn.metrics import fowlkes_mallows_score"
      ],
      "execution_count": 41,
      "outputs": []
    },
    {
      "cell_type": "code",
      "metadata": {
        "id": "Idk_EHybLAap",
        "colab_type": "code",
        "colab": {
          "base_uri": "https://localhost:8080/",
          "height": 34
        },
        "outputId": "355cdd44-15b8-488a-dbaa-e9640db69e87"
      },
      "source": [
        "fm = fowlkes_mallows_score(y,kmeans_labels)\n",
        "fm"
      ],
      "execution_count": 42,
      "outputs": [
        {
          "output_type": "execute_result",
          "data": {
            "text/plain": [
              "0.965683178276757"
            ]
          },
          "metadata": {
            "tags": []
          },
          "execution_count": 42
        }
      ]
    },
    {
      "cell_type": "markdown",
      "metadata": {
        "id": "FqZ1UgxSi_Mf",
        "colab_type": "text"
      },
      "source": [
        "## 8. Métricas para classes não conhecidas"
      ]
    },
    {
      "cell_type": "markdown",
      "metadata": {
        "id": "lfrhcTVCjL4D",
        "colab_type": "text"
      },
      "source": [
        "### Índice Davies-Boldin\n"
      ]
    },
    {
      "cell_type": "code",
      "metadata": {
        "id": "Lnymptl9jNYJ",
        "colab_type": "code",
        "colab": {}
      },
      "source": [
        "# removendo a coluna resultado\n",
        "x = x.drop(columns=['Result'])"
      ],
      "execution_count": 43,
      "outputs": []
    },
    {
      "cell_type": "code",
      "metadata": {
        "id": "kYe8zgpCjWix",
        "colab_type": "code",
        "colab": {}
      },
      "source": [
        "from sklearn.metrics import davies_bouldin_score"
      ],
      "execution_count": 44,
      "outputs": []
    },
    {
      "cell_type": "code",
      "metadata": {
        "id": "jShDJ_iLjYUB",
        "colab_type": "code",
        "colab": {
          "base_uri": "https://localhost:8080/",
          "height": 34
        },
        "outputId": "a6477aed-f0e7-4b70-961f-9ef5ed367a7a"
      },
      "source": [
        "db = davies_bouldin_score(x,kmeans_labels)\n",
        "db"
      ],
      "execution_count": 45,
      "outputs": [
        {
          "output_type": "execute_result",
          "data": {
            "text/plain": [
              "0.9765901528140738"
            ]
          },
          "metadata": {
            "tags": []
          },
          "execution_count": 45
        }
      ]
    },
    {
      "cell_type": "markdown",
      "metadata": {
        "id": "ArCjWbipjdah",
        "colab_type": "text"
      },
      "source": [
        "### Coeficiente de Silhueta\n"
      ]
    },
    {
      "cell_type": "code",
      "metadata": {
        "id": "R-u9Jn3fjf_i",
        "colab_type": "code",
        "colab": {}
      },
      "source": [
        "from sklearn.metrics import silhouette_score"
      ],
      "execution_count": 47,
      "outputs": []
    },
    {
      "cell_type": "code",
      "metadata": {
        "id": "bkt6B7fVjiGq",
        "colab_type": "code",
        "colab": {
          "base_uri": "https://localhost:8080/",
          "height": 34
        },
        "outputId": "1fae45b6-9ef8-4974-a292-52a5c97c8ef2"
      },
      "source": [
        "ss = silhouette_score(x,kmeans_labels,metric='euclidean')\n",
        "ss"
      ],
      "execution_count": 49,
      "outputs": [
        {
          "output_type": "execute_result",
          "data": {
            "text/plain": [
              "0.4186736584264156"
            ]
          },
          "metadata": {
            "tags": []
          },
          "execution_count": 49
        }
      ]
    },
    {
      "cell_type": "markdown",
      "metadata": {
        "id": "DoVWPYFIjoST",
        "colab_type": "text"
      },
      "source": [
        "### Índice Calinski-Harabasz \n"
      ]
    },
    {
      "cell_type": "code",
      "metadata": {
        "id": "bxP8LWzrjq4h",
        "colab_type": "code",
        "colab": {}
      },
      "source": [
        "from sklearn.metrics import calinski_harabasz_score"
      ],
      "execution_count": 50,
      "outputs": []
    },
    {
      "cell_type": "code",
      "metadata": {
        "id": "JCzzR8tKjsj2",
        "colab_type": "code",
        "colab": {
          "base_uri": "https://localhost:8080/",
          "height": 34
        },
        "outputId": "300d0787-8a11-4009-bf70-739656a6016d"
      },
      "source": [
        "ch = calinski_harabasz_score(x,kmeans_labels)\n",
        "ch"
      ],
      "execution_count": 52,
      "outputs": [
        {
          "output_type": "execute_result",
          "data": {
            "text/plain": [
              "52.43059031924216"
            ]
          },
          "metadata": {
            "tags": []
          },
          "execution_count": 52
        }
      ]
    },
    {
      "cell_type": "markdown",
      "metadata": {
        "id": "tCSgjbU-jz3p",
        "colab_type": "text"
      },
      "source": [
        "## 9. Agrupamento hierárquico"
      ]
    },
    {
      "cell_type": "code",
      "metadata": {
        "id": "03ORoBKej8Vz",
        "colab_type": "code",
        "colab": {}
      },
      "source": [
        "from sklearn.cluster import AgglomerativeClustering"
      ],
      "execution_count": 53,
      "outputs": []
    },
    {
      "cell_type": "code",
      "metadata": {
        "id": "Bf7yqXD6j-j5",
        "colab_type": "code",
        "colab": {}
      },
      "source": [
        "# definição do modelo e agrupamento\n",
        "hierarquico = AgglomerativeClustering(n_clusters=2)\n",
        "labels_hierarquico = hierarquico.fit(x).labels_"
      ],
      "execution_count": 55,
      "outputs": []
    },
    {
      "cell_type": "code",
      "metadata": {
        "id": "46Oku2kNkH4S",
        "colab_type": "code",
        "colab": {
          "base_uri": "https://localhost:8080/",
          "height": 68
        },
        "outputId": "1a708b7c-b43f-4580-bd78-7dee42da03c1"
      },
      "source": [
        "labels_hierarquico"
      ],
      "execution_count": 56,
      "outputs": [
        {
          "output_type": "execute_result",
          "data": {
            "text/plain": [
              "array([1, 0, 1, 1, 0, 1, 1, 1, 1, 0, 1, 1, 1, 0, 0, 1, 0, 1, 0, 0, 0, 1,\n",
              "       1, 1, 0, 1, 1, 1, 0, 0, 1, 0, 0, 0, 1, 1, 0, 0, 1, 1, 0, 1, 0, 0,\n",
              "       1, 1, 1, 1, 1, 0, 1, 0, 0, 1, 1, 0, 0, 0, 1])"
            ]
          },
          "metadata": {
            "tags": []
          },
          "execution_count": 56
        }
      ]
    },
    {
      "cell_type": "markdown",
      "metadata": {
        "id": "eObB-h7zkYzy",
        "colab_type": "text"
      },
      "source": [
        "### Avaliando modelo\n"
      ]
    },
    {
      "cell_type": "code",
      "metadata": {
        "id": "AHCb4KqMkgCK",
        "colab_type": "code",
        "colab": {
          "base_uri": "https://localhost:8080/",
          "height": 34
        },
        "outputId": "30c9a2cd-507b-4d41-ac22-40f175477e7c"
      },
      "source": [
        "# acurácia\n",
        "acuracia = accuracy_score(y,labels_hierarquico)\n",
        "round(acuracia,3)"
      ],
      "execution_count": 57,
      "outputs": [
        {
          "output_type": "execute_result",
          "data": {
            "text/plain": [
              "0.034"
            ]
          },
          "metadata": {
            "tags": []
          },
          "execution_count": 57
        }
      ]
    },
    {
      "cell_type": "code",
      "metadata": {
        "id": "J4FHTv9sklv1",
        "colab_type": "code",
        "colab": {
          "base_uri": "https://localhost:8080/",
          "height": 34
        },
        "outputId": "71822189-501d-4b01-c5e7-5fa8eb94ca35"
      },
      "source": [
        "# índice rand ajustado\n",
        "rand_score = adjusted_rand_score(y,labels_hierarquico)\n",
        "rand_score"
      ],
      "execution_count": 58,
      "outputs": [
        {
          "output_type": "execute_result",
          "data": {
            "text/plain": [
              "0.8667389037902627"
            ]
          },
          "metadata": {
            "tags": []
          },
          "execution_count": 58
        }
      ]
    },
    {
      "cell_type": "code",
      "metadata": {
        "id": "PpcORggYkobS",
        "colab_type": "code",
        "colab": {
          "base_uri": "https://localhost:8080/",
          "height": 34
        },
        "outputId": "dcb5104c-175e-415b-bc3d-ce58b851ace3"
      },
      "source": [
        "# índice baseado em informação mútua\n",
        "mutual_info = adjusted_mutual_info_score(y,labels_hierarquico)\n",
        "mutual_info"
      ],
      "execution_count": 59,
      "outputs": [
        {
          "output_type": "execute_result",
          "data": {
            "text/plain": [
              "0.816252464401381"
            ]
          },
          "metadata": {
            "tags": []
          },
          "execution_count": 59
        }
      ]
    },
    {
      "cell_type": "code",
      "metadata": {
        "id": "yq6YPWuEkqvR",
        "colab_type": "code",
        "colab": {
          "base_uri": "https://localhost:8080/",
          "height": 34
        },
        "outputId": "b8f0c9f0-56ad-4c61-d5a0-79b1905027fd"
      },
      "source": [
        "# índice Fowlkes Mallows\n",
        "fm = fowlkes_mallows_score(y,labels_hierarquico)\n",
        "fm"
      ],
      "execution_count": 60,
      "outputs": [
        {
          "output_type": "execute_result",
          "data": {
            "text/plain": [
              "0.932799233618174"
            ]
          },
          "metadata": {
            "tags": []
          },
          "execution_count": 60
        }
      ]
    },
    {
      "cell_type": "code",
      "metadata": {
        "id": "lhGNX4wdktXi",
        "colab_type": "code",
        "colab": {
          "base_uri": "https://localhost:8080/",
          "height": 34
        },
        "outputId": "3e11acb2-9028-463f-a03e-36af94f2336c"
      },
      "source": [
        "# índice Davies-Boldin\n",
        "db = davies_bouldin_score(x,labels_hierarquico)\n",
        "db"
      ],
      "execution_count": 62,
      "outputs": [
        {
          "output_type": "execute_result",
          "data": {
            "text/plain": [
              "0.9798301777233183"
            ]
          },
          "metadata": {
            "tags": []
          },
          "execution_count": 62
        }
      ]
    },
    {
      "cell_type": "code",
      "metadata": {
        "id": "j8Jx0OHzkx5B",
        "colab_type": "code",
        "colab": {
          "base_uri": "https://localhost:8080/",
          "height": 34
        },
        "outputId": "6885e895-c11e-44bb-e317-ca5856cb73a6"
      },
      "source": [
        "# coeficiente de silhueta\n",
        "ss = silhouette_score(x,labels_hierarquico,metric='euclidean')\n",
        "ss"
      ],
      "execution_count": 64,
      "outputs": [
        {
          "output_type": "execute_result",
          "data": {
            "text/plain": [
              "0.4188465961234816"
            ]
          },
          "metadata": {
            "tags": []
          },
          "execution_count": 64
        }
      ]
    },
    {
      "cell_type": "code",
      "metadata": {
        "id": "miDRzkiDk1fl",
        "colab_type": "code",
        "colab": {
          "base_uri": "https://localhost:8080/",
          "height": 34
        },
        "outputId": "47aee89c-5edc-480c-d0c4-291132e8e99d"
      },
      "source": [
        "# índice de Calinski-Harabasz\n",
        "ch = calinski_harabasz_score(x,labels_hierarquico)\n",
        "ch"
      ],
      "execution_count": 66,
      "outputs": [
        {
          "output_type": "execute_result",
          "data": {
            "text/plain": [
              "52.14559441435971"
            ]
          },
          "metadata": {
            "tags": []
          },
          "execution_count": 66
        }
      ]
    }
  ]
}