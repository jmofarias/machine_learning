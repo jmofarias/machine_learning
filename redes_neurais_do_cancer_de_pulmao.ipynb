{
  "nbformat": 4,
  "nbformat_minor": 0,
  "metadata": {
    "colab": {
      "name": "Redes Neurais do Cancer de Pulmao.ipynb",
      "provenance": [],
      "authorship_tag": "ABX9TyOxABHz4UK2hXiZn3PKX4wt",
      "include_colab_link": true
    },
    "kernelspec": {
      "name": "python3",
      "display_name": "Python 3"
    }
  },
  "cells": [
    {
      "cell_type": "markdown",
      "metadata": {
        "id": "view-in-github",
        "colab_type": "text"
      },
      "source": [
        "<a href=\"https://colab.research.google.com/github/jmofarias/machine_learning/blob/master/redes_neurais_do_cancer_de_pulmao.ipynb\" target=\"_parent\"><img src=\"https://colab.research.google.com/assets/colab-badge.svg\" alt=\"Open In Colab\"/></a>"
      ]
    },
    {
      "cell_type": "markdown",
      "metadata": {
        "id": "1vM98VcCK_hU",
        "colab_type": "text"
      },
      "source": [
        "# **Classificação com Redes Neurais**"
      ]
    },
    {
      "cell_type": "markdown",
      "metadata": {
        "id": "3qMzHM9_LF9b",
        "colab_type": "text"
      },
      "source": [
        "## **Classificação de Câncer de Pulmão**"
      ]
    },
    {
      "cell_type": "markdown",
      "metadata": {
        "id": "tqO8IkhaLRgj",
        "colab_type": "text"
      },
      "source": [
        "* Dataset com dados referentes ao câncer de pulmão.\n",
        "* [Long Cancer](https://www.kaggle.com/yusufdede/lung-cancer-dataset)"
      ]
    },
    {
      "cell_type": "code",
      "metadata": {
        "id": "0ohL6DrMLUsT",
        "colab_type": "code",
        "colab": {
          "base_uri": "https://localhost:8080/",
          "height": 34
        },
        "outputId": "923ed0fd-601e-4a01-c1c4-a3b18dcb3c4e"
      },
      "source": [
        "from google.colab import drive\n",
        "drive.mount('/content/drive/')"
      ],
      "execution_count": 6,
      "outputs": [
        {
          "output_type": "stream",
          "text": [
            "Drive already mounted at /content/drive/; to attempt to forcibly remount, call drive.mount(\"/content/drive/\", force_remount=True).\n"
          ],
          "name": "stdout"
        }
      ]
    },
    {
      "cell_type": "markdown",
      "metadata": {
        "id": "7XG5JnDJLbzT",
        "colab_type": "text"
      },
      "source": [
        "## 1. Importando Bibliotecas"
      ]
    },
    {
      "cell_type": "code",
      "metadata": {
        "id": "oL53Z1jdLg36",
        "colab_type": "code",
        "colab": {}
      },
      "source": [
        "# importando bibliotecas\n",
        "import numpy as np\n",
        "import pandas as pd\n",
        "import matplotlib.pyplot as plt"
      ],
      "execution_count": 7,
      "outputs": []
    },
    {
      "cell_type": "markdown",
      "metadata": {
        "id": "VDqqHunWLmu6",
        "colab_type": "text"
      },
      "source": [
        "## 2. Leitura dos dados utilizando a biblioteca Pandas"
      ]
    },
    {
      "cell_type": "code",
      "metadata": {
        "id": "hfwDIB12LrtS",
        "colab_type": "code",
        "colab": {}
      },
      "source": [
        "# lendo csv e armazenando em um dataframe\n",
        "dados = pd.read_csv('/content/drive/My Drive/Colab Notebooks/Machine_Learning/Datasets/lung_cancer_examples.csv')"
      ],
      "execution_count": 8,
      "outputs": []
    },
    {
      "cell_type": "code",
      "metadata": {
        "id": "kU0v452ALuCS",
        "colab_type": "code",
        "colab": {
          "base_uri": "https://localhost:8080/",
          "height": 204
        },
        "outputId": "8af91186-c9f9-420f-aab4-166559dfdeb0"
      },
      "source": [
        "dados.head()"
      ],
      "execution_count": 9,
      "outputs": [
        {
          "output_type": "execute_result",
          "data": {
            "text/html": [
              "<div>\n",
              "<style scoped>\n",
              "    .dataframe tbody tr th:only-of-type {\n",
              "        vertical-align: middle;\n",
              "    }\n",
              "\n",
              "    .dataframe tbody tr th {\n",
              "        vertical-align: top;\n",
              "    }\n",
              "\n",
              "    .dataframe thead th {\n",
              "        text-align: right;\n",
              "    }\n",
              "</style>\n",
              "<table border=\"1\" class=\"dataframe\">\n",
              "  <thead>\n",
              "    <tr style=\"text-align: right;\">\n",
              "      <th></th>\n",
              "      <th>Name</th>\n",
              "      <th>Surname</th>\n",
              "      <th>Age</th>\n",
              "      <th>Smokes</th>\n",
              "      <th>AreaQ</th>\n",
              "      <th>Alkhol</th>\n",
              "      <th>Result</th>\n",
              "    </tr>\n",
              "  </thead>\n",
              "  <tbody>\n",
              "    <tr>\n",
              "      <th>0</th>\n",
              "      <td>John</td>\n",
              "      <td>Wick</td>\n",
              "      <td>35</td>\n",
              "      <td>3</td>\n",
              "      <td>5</td>\n",
              "      <td>4</td>\n",
              "      <td>1</td>\n",
              "    </tr>\n",
              "    <tr>\n",
              "      <th>1</th>\n",
              "      <td>John</td>\n",
              "      <td>Constantine</td>\n",
              "      <td>27</td>\n",
              "      <td>20</td>\n",
              "      <td>2</td>\n",
              "      <td>5</td>\n",
              "      <td>1</td>\n",
              "    </tr>\n",
              "    <tr>\n",
              "      <th>2</th>\n",
              "      <td>Camela</td>\n",
              "      <td>Anderson</td>\n",
              "      <td>30</td>\n",
              "      <td>0</td>\n",
              "      <td>5</td>\n",
              "      <td>2</td>\n",
              "      <td>0</td>\n",
              "    </tr>\n",
              "    <tr>\n",
              "      <th>3</th>\n",
              "      <td>Alex</td>\n",
              "      <td>Telles</td>\n",
              "      <td>28</td>\n",
              "      <td>0</td>\n",
              "      <td>8</td>\n",
              "      <td>1</td>\n",
              "      <td>0</td>\n",
              "    </tr>\n",
              "    <tr>\n",
              "      <th>4</th>\n",
              "      <td>Diego</td>\n",
              "      <td>Maradona</td>\n",
              "      <td>68</td>\n",
              "      <td>4</td>\n",
              "      <td>5</td>\n",
              "      <td>6</td>\n",
              "      <td>1</td>\n",
              "    </tr>\n",
              "  </tbody>\n",
              "</table>\n",
              "</div>"
            ],
            "text/plain": [
              "     Name      Surname  Age  Smokes  AreaQ  Alkhol  Result\n",
              "0    John         Wick   35       3      5       4       1\n",
              "1    John  Constantine   27      20      2       5       1\n",
              "2  Camela     Anderson   30       0      5       2       0\n",
              "3    Alex       Telles   28       0      8       1       0\n",
              "4   Diego     Maradona   68       4      5       6       1"
            ]
          },
          "metadata": {
            "tags": []
          },
          "execution_count": 9
        }
      ]
    },
    {
      "cell_type": "markdown",
      "metadata": {
        "id": "Dcfps2WkLymb",
        "colab_type": "text"
      },
      "source": [
        "## 3. Limpeza e organização dos dados"
      ]
    },
    {
      "cell_type": "code",
      "metadata": {
        "id": "IkQ4My9VL1iB",
        "colab_type": "code",
        "colab": {}
      },
      "source": [
        "# verificar se existem valores NAN, ? ou dados faltantes\n",
        "dados = dados.dropna()"
      ],
      "execution_count": 10,
      "outputs": []
    },
    {
      "cell_type": "code",
      "metadata": {
        "id": "z5DgDNozL3hh",
        "colab_type": "code",
        "colab": {
          "base_uri": "https://localhost:8080/",
          "height": 204
        },
        "outputId": "1f9cb8a1-4115-4a62-f2f5-9343f56075eb"
      },
      "source": [
        "# excluir colunas irrelevantes\n",
        "dados = dados.drop(columns=['Name', 'Surname'])\n",
        "dados.head()"
      ],
      "execution_count": 11,
      "outputs": [
        {
          "output_type": "execute_result",
          "data": {
            "text/html": [
              "<div>\n",
              "<style scoped>\n",
              "    .dataframe tbody tr th:only-of-type {\n",
              "        vertical-align: middle;\n",
              "    }\n",
              "\n",
              "    .dataframe tbody tr th {\n",
              "        vertical-align: top;\n",
              "    }\n",
              "\n",
              "    .dataframe thead th {\n",
              "        text-align: right;\n",
              "    }\n",
              "</style>\n",
              "<table border=\"1\" class=\"dataframe\">\n",
              "  <thead>\n",
              "    <tr style=\"text-align: right;\">\n",
              "      <th></th>\n",
              "      <th>Age</th>\n",
              "      <th>Smokes</th>\n",
              "      <th>AreaQ</th>\n",
              "      <th>Alkhol</th>\n",
              "      <th>Result</th>\n",
              "    </tr>\n",
              "  </thead>\n",
              "  <tbody>\n",
              "    <tr>\n",
              "      <th>0</th>\n",
              "      <td>35</td>\n",
              "      <td>3</td>\n",
              "      <td>5</td>\n",
              "      <td>4</td>\n",
              "      <td>1</td>\n",
              "    </tr>\n",
              "    <tr>\n",
              "      <th>1</th>\n",
              "      <td>27</td>\n",
              "      <td>20</td>\n",
              "      <td>2</td>\n",
              "      <td>5</td>\n",
              "      <td>1</td>\n",
              "    </tr>\n",
              "    <tr>\n",
              "      <th>2</th>\n",
              "      <td>30</td>\n",
              "      <td>0</td>\n",
              "      <td>5</td>\n",
              "      <td>2</td>\n",
              "      <td>0</td>\n",
              "    </tr>\n",
              "    <tr>\n",
              "      <th>3</th>\n",
              "      <td>28</td>\n",
              "      <td>0</td>\n",
              "      <td>8</td>\n",
              "      <td>1</td>\n",
              "      <td>0</td>\n",
              "    </tr>\n",
              "    <tr>\n",
              "      <th>4</th>\n",
              "      <td>68</td>\n",
              "      <td>4</td>\n",
              "      <td>5</td>\n",
              "      <td>6</td>\n",
              "      <td>1</td>\n",
              "    </tr>\n",
              "  </tbody>\n",
              "</table>\n",
              "</div>"
            ],
            "text/plain": [
              "   Age  Smokes  AreaQ  Alkhol  Result\n",
              "0   35       3      5       4       1\n",
              "1   27      20      2       5       1\n",
              "2   30       0      5       2       0\n",
              "3   28       0      8       1       0\n",
              "4   68       4      5       6       1"
            ]
          },
          "metadata": {
            "tags": []
          },
          "execution_count": 11
        }
      ]
    },
    {
      "cell_type": "markdown",
      "metadata": {
        "id": "0TgeL30EL6FU",
        "colab_type": "text"
      },
      "source": [
        "## 4. Re-escala dos dados"
      ]
    },
    {
      "cell_type": "code",
      "metadata": {
        "id": "s3VGmeRNL-si",
        "colab_type": "code",
        "colab": {
          "base_uri": "https://localhost:8080/",
          "height": 1000
        },
        "outputId": "cb2df577-8589-4258-ab82-e38c2369e4fb"
      },
      "source": [
        "# dados de area\n",
        "area = dados.AreaQ\n",
        "area"
      ],
      "execution_count": 12,
      "outputs": [
        {
          "output_type": "execute_result",
          "data": {
            "text/plain": [
              "0      5\n",
              "1      2\n",
              "2      5\n",
              "3      8\n",
              "4      5\n",
              "5     10\n",
              "6     10\n",
              "7      5\n",
              "8      6\n",
              "9      4\n",
              "10     8\n",
              "11     6\n",
              "12     5\n",
              "13     2\n",
              "14     4\n",
              "15     8\n",
              "16     3\n",
              "17     8\n",
              "18     4\n",
              "19     7\n",
              "20     1\n",
              "21     8\n",
              "22     6\n",
              "23     8\n",
              "24     2\n",
              "25     5\n",
              "26     6\n",
              "27     8\n",
              "28     1\n",
              "29     2\n",
              "30     5\n",
              "31     3\n",
              "32     1\n",
              "33     3\n",
              "34     7\n",
              "35     8\n",
              "36     3\n",
              "37     5\n",
              "38     8\n",
              "39     5\n",
              "40     2\n",
              "41     8\n",
              "42     5\n",
              "43     4\n",
              "44     7\n",
              "45     8\n",
              "46     9\n",
              "47     4\n",
              "48     6\n",
              "49     5\n",
              "50     6\n",
              "51     1\n",
              "52     1\n",
              "53     5\n",
              "54     6\n",
              "55     5\n",
              "56     3\n",
              "57     3\n",
              "58     9\n",
              "Name: AreaQ, dtype: int64"
            ]
          },
          "metadata": {
            "tags": []
          },
          "execution_count": 12
        }
      ]
    },
    {
      "cell_type": "code",
      "metadata": {
        "id": "CeRipNdZL_W6",
        "colab_type": "code",
        "colab": {
          "base_uri": "https://localhost:8080/",
          "height": 1000
        },
        "outputId": "ebd03b27-ff14-44c7-c0d9-0e80ae6a562f"
      },
      "source": [
        "# dados de fumantes\n",
        "smokes = dados.Smokes\n",
        "smokes"
      ],
      "execution_count": 13,
      "outputs": [
        {
          "output_type": "execute_result",
          "data": {
            "text/plain": [
              "0      3\n",
              "1     20\n",
              "2      0\n",
              "3      0\n",
              "4      4\n",
              "5      0\n",
              "6     15\n",
              "7     12\n",
              "8      2\n",
              "9     18\n",
              "10     4\n",
              "11    10\n",
              "12     2\n",
              "13    20\n",
              "14    25\n",
              "15    18\n",
              "16    22\n",
              "17    12\n",
              "18     5\n",
              "19    10\n",
              "20    15\n",
              "21     8\n",
              "22    20\n",
              "23     5\n",
              "24     3\n",
              "25    20\n",
              "26    15\n",
              "27    12\n",
              "28    20\n",
              "29    20\n",
              "30    13\n",
              "31    20\n",
              "32    15\n",
              "33    25\n",
              "34    10\n",
              "35    20\n",
              "36    20\n",
              "37    15\n",
              "38    25\n",
              "39    10\n",
              "40    20\n",
              "41    12\n",
              "42    20\n",
              "43    20\n",
              "44    15\n",
              "45    20\n",
              "46    20\n",
              "47    10\n",
              "48    20\n",
              "49    20\n",
              "50    12\n",
              "51    30\n",
              "52    34\n",
              "53    20\n",
              "54    13\n",
              "55    20\n",
              "56    15\n",
              "57    30\n",
              "58    25\n",
              "Name: Smokes, dtype: int64"
            ]
          },
          "metadata": {
            "tags": []
          },
          "execution_count": 13
        }
      ]
    },
    {
      "cell_type": "code",
      "metadata": {
        "id": "QUJLU9swMAu5",
        "colab_type": "code",
        "colab": {
          "base_uri": "https://localhost:8080/",
          "height": 1000
        },
        "outputId": "17bd6b20-6987-42e9-acab-2291bd101d92"
      },
      "source": [
        "# dados de alcoólicos\n",
        "alcool = dados.Alkhol\n",
        "alcool"
      ],
      "execution_count": 14,
      "outputs": [
        {
          "output_type": "execute_result",
          "data": {
            "text/plain": [
              "0     4\n",
              "1     5\n",
              "2     2\n",
              "3     1\n",
              "4     6\n",
              "5     0\n",
              "6     0\n",
              "7     2\n",
              "8     0\n",
              "9     5\n",
              "10    0\n",
              "11    3\n",
              "12    1\n",
              "13    8\n",
              "14    8\n",
              "15    1\n",
              "16    5\n",
              "17    0\n",
              "18    3\n",
              "19    6\n",
              "20    3\n",
              "21    1\n",
              "22    2\n",
              "23    1\n",
              "24    6\n",
              "25    3\n",
              "26    2\n",
              "27    0\n",
              "28    4\n",
              "29    7\n",
              "30    2\n",
              "31    3\n",
              "32    8\n",
              "33    4\n",
              "34    2\n",
              "35    2\n",
              "36    4\n",
              "37    5\n",
              "38    2\n",
              "39    3\n",
              "40    4\n",
              "41    0\n",
              "42    4\n",
              "43    5\n",
              "44    2\n",
              "45    3\n",
              "46    4\n",
              "47    1\n",
              "48    3\n",
              "49    6\n",
              "50    2\n",
              "51    6\n",
              "52    8\n",
              "53    1\n",
              "54    1\n",
              "55    4\n",
              "56    5\n",
              "57    8\n",
              "58    0\n",
              "Name: Alkhol, dtype: int64"
            ]
          },
          "metadata": {
            "tags": []
          },
          "execution_count": 14
        }
      ]
    },
    {
      "cell_type": "code",
      "metadata": {
        "id": "wOXhTSFuMD8i",
        "colab_type": "code",
        "colab": {}
      },
      "source": [
        "# re-escala pelo máximo\n",
        "area = area/area.max()\n",
        "smokes = smokes/smokes.max()\n",
        "alcool = alcool/alcool.max()"
      ],
      "execution_count": 15,
      "outputs": []
    },
    {
      "cell_type": "code",
      "metadata": {
        "id": "KOWt4yYuMG56",
        "colab_type": "code",
        "colab": {
          "base_uri": "https://localhost:8080/",
          "height": 281
        },
        "outputId": "29b904a0-70d9-43ed-bf15-788998c8c692"
      },
      "source": [
        "# plotando área, fumantes e alcoólicos em um gráfico\n",
        "plt.plot(area, label='área')\n",
        "plt.plot(smokes, label='fumantes')\n",
        "plt.plot(alcool, label='alcoólicos')\n",
        "plt.title('Área, Fumantes e Alcoólicos Normalizados')\n",
        "plt.legend()\n",
        "plt.show()"
      ],
      "execution_count": 16,
      "outputs": [
        {
          "output_type": "display_data",
          "data": {
            "image/png": "[encoded data removed]",
            "text/plain": [
              "<Figure size 432x288 with 1 Axes>"
            ]
          },
          "metadata": {
            "tags": [],
            "needs_background": "light"
          }
        }
      ]
    },
    {
      "cell_type": "markdown",
      "metadata": {
        "id": "obRF8-2oMK2M",
        "colab_type": "text"
      },
      "source": [
        "## 5. Organização dos dados para modelagem"
      ]
    },
    {
      "cell_type": "code",
      "metadata": {
        "id": "2C4SjwbGMPPT",
        "colab_type": "code",
        "colab": {
          "base_uri": "https://localhost:8080/",
          "height": 204
        },
        "outputId": "7abdd584-d7f4-4089-9e5d-5b7ab9988f04"
      },
      "source": [
        "# dados em atributos descritores e de classe\n",
        "x = dados.iloc[:,1:]\n",
        "x.head()"
      ],
      "execution_count": 17,
      "outputs": [
        {
          "output_type": "execute_result",
          "data": {
            "text/html": [
              "<div>\n",
              "<style scoped>\n",
              "    .dataframe tbody tr th:only-of-type {\n",
              "        vertical-align: middle;\n",
              "    }\n",
              "\n",
              "    .dataframe tbody tr th {\n",
              "        vertical-align: top;\n",
              "    }\n",
              "\n",
              "    .dataframe thead th {\n",
              "        text-align: right;\n",
              "    }\n",
              "</style>\n",
              "<table border=\"1\" class=\"dataframe\">\n",
              "  <thead>\n",
              "    <tr style=\"text-align: right;\">\n",
              "      <th></th>\n",
              "      <th>Smokes</th>\n",
              "      <th>AreaQ</th>\n",
              "      <th>Alkhol</th>\n",
              "      <th>Result</th>\n",
              "    </tr>\n",
              "  </thead>\n",
              "  <tbody>\n",
              "    <tr>\n",
              "      <th>0</th>\n",
              "      <td>3</td>\n",
              "      <td>5</td>\n",
              "      <td>4</td>\n",
              "      <td>1</td>\n",
              "    </tr>\n",
              "    <tr>\n",
              "      <th>1</th>\n",
              "      <td>20</td>\n",
              "      <td>2</td>\n",
              "      <td>5</td>\n",
              "      <td>1</td>\n",
              "    </tr>\n",
              "    <tr>\n",
              "      <th>2</th>\n",
              "      <td>0</td>\n",
              "      <td>5</td>\n",
              "      <td>2</td>\n",
              "      <td>0</td>\n",
              "    </tr>\n",
              "    <tr>\n",
              "      <th>3</th>\n",
              "      <td>0</td>\n",
              "      <td>8</td>\n",
              "      <td>1</td>\n",
              "      <td>0</td>\n",
              "    </tr>\n",
              "    <tr>\n",
              "      <th>4</th>\n",
              "      <td>4</td>\n",
              "      <td>5</td>\n",
              "      <td>6</td>\n",
              "      <td>1</td>\n",
              "    </tr>\n",
              "  </tbody>\n",
              "</table>\n",
              "</div>"
            ],
            "text/plain": [
              "   Smokes  AreaQ  Alkhol  Result\n",
              "0       3      5       4       1\n",
              "1      20      2       5       1\n",
              "2       0      5       2       0\n",
              "3       0      8       1       0\n",
              "4       4      5       6       1"
            ]
          },
          "metadata": {
            "tags": []
          },
          "execution_count": 17
        }
      ]
    },
    {
      "cell_type": "code",
      "metadata": {
        "id": "CSFe6ovZMTKb",
        "colab_type": "code",
        "colab": {
          "base_uri": "https://localhost:8080/",
          "height": 119
        },
        "outputId": "8fd4208e-70aa-490c-e7c6-98ee4801ce9d"
      },
      "source": [
        "# dados em atributos de classe\n",
        "y = dados.Result\n",
        "y.head()"
      ],
      "execution_count": 18,
      "outputs": [
        {
          "output_type": "execute_result",
          "data": {
            "text/plain": [
              "0    1\n",
              "1    1\n",
              "2    0\n",
              "3    0\n",
              "4    1\n",
              "Name: Result, dtype: int64"
            ]
          },
          "metadata": {
            "tags": []
          },
          "execution_count": 18
        }
      ]
    },
    {
      "cell_type": "markdown",
      "metadata": {
        "id": "qF-oiGW4MYJS",
        "colab_type": "text"
      },
      "source": [
        "### Dividindo dados em treino e teste"
      ]
    },
    {
      "cell_type": "code",
      "metadata": {
        "id": "Afz9DZi7McwK",
        "colab_type": "code",
        "colab": {}
      },
      "source": [
        "from sklearn.model_selection import train_test_split"
      ],
      "execution_count": 19,
      "outputs": []
    },
    {
      "cell_type": "code",
      "metadata": {
        "id": "BSKv6Qo2MddC",
        "colab_type": "code",
        "colab": {}
      },
      "source": [
        "x_train, x_test, y_train, y_test = train_test_split(x,y, test_size=0.2)"
      ],
      "execution_count": 20,
      "outputs": []
    },
    {
      "cell_type": "code",
      "metadata": {
        "id": "dqmYwajiMfY6",
        "colab_type": "code",
        "colab": {
          "base_uri": "https://localhost:8080/",
          "height": 204
        },
        "outputId": "45859bb6-7b88-486e-a3cf-13d8f29af1d0"
      },
      "source": [
        "x_train.head()"
      ],
      "execution_count": 21,
      "outputs": [
        {
          "output_type": "execute_result",
          "data": {
            "text/html": [
              "<div>\n",
              "<style scoped>\n",
              "    .dataframe tbody tr th:only-of-type {\n",
              "        vertical-align: middle;\n",
              "    }\n",
              "\n",
              "    .dataframe tbody tr th {\n",
              "        vertical-align: top;\n",
              "    }\n",
              "\n",
              "    .dataframe thead th {\n",
              "        text-align: right;\n",
              "    }\n",
              "</style>\n",
              "<table border=\"1\" class=\"dataframe\">\n",
              "  <thead>\n",
              "    <tr style=\"text-align: right;\">\n",
              "      <th></th>\n",
              "      <th>Smokes</th>\n",
              "      <th>AreaQ</th>\n",
              "      <th>Alkhol</th>\n",
              "      <th>Result</th>\n",
              "    </tr>\n",
              "  </thead>\n",
              "  <tbody>\n",
              "    <tr>\n",
              "      <th>14</th>\n",
              "      <td>25</td>\n",
              "      <td>4</td>\n",
              "      <td>8</td>\n",
              "      <td>1</td>\n",
              "    </tr>\n",
              "    <tr>\n",
              "      <th>44</th>\n",
              "      <td>15</td>\n",
              "      <td>7</td>\n",
              "      <td>2</td>\n",
              "      <td>0</td>\n",
              "    </tr>\n",
              "    <tr>\n",
              "      <th>26</th>\n",
              "      <td>15</td>\n",
              "      <td>6</td>\n",
              "      <td>2</td>\n",
              "      <td>0</td>\n",
              "    </tr>\n",
              "    <tr>\n",
              "      <th>38</th>\n",
              "      <td>25</td>\n",
              "      <td>8</td>\n",
              "      <td>2</td>\n",
              "      <td>0</td>\n",
              "    </tr>\n",
              "    <tr>\n",
              "      <th>19</th>\n",
              "      <td>10</td>\n",
              "      <td>7</td>\n",
              "      <td>6</td>\n",
              "      <td>1</td>\n",
              "    </tr>\n",
              "  </tbody>\n",
              "</table>\n",
              "</div>"
            ],
            "text/plain": [
              "    Smokes  AreaQ  Alkhol  Result\n",
              "14      25      4       8       1\n",
              "44      15      7       2       0\n",
              "26      15      6       2       0\n",
              "38      25      8       2       0\n",
              "19      10      7       6       1"
            ]
          },
          "metadata": {
            "tags": []
          },
          "execution_count": 21
        }
      ]
    },
    {
      "cell_type": "code",
      "metadata": {
        "id": "5ToC7TPPMiRJ",
        "colab_type": "code",
        "colab": {
          "base_uri": "https://localhost:8080/",
          "height": 119
        },
        "outputId": "6c7e4aaf-1a84-4915-9e8d-2a059905989f"
      },
      "source": [
        "y_train.head()"
      ],
      "execution_count": 22,
      "outputs": [
        {
          "output_type": "execute_result",
          "data": {
            "text/plain": [
              "14    1\n",
              "44    0\n",
              "26    0\n",
              "38    0\n",
              "19    1\n",
              "Name: Result, dtype: int64"
            ]
          },
          "metadata": {
            "tags": []
          },
          "execution_count": 22
        }
      ]
    },
    {
      "cell_type": "markdown",
      "metadata": {
        "id": "YN0hn1GAMnFK",
        "colab_type": "text"
      },
      "source": [
        "## 6. Definindo algoritmo de aprendizado"
      ]
    },
    {
      "cell_type": "code",
      "metadata": {
        "id": "c2VVKC4kMtm6",
        "colab_type": "code",
        "colab": {}
      },
      "source": [
        "from sklearn.neural_network import MLPClassifier"
      ],
      "execution_count": 54,
      "outputs": []
    },
    {
      "cell_type": "code",
      "metadata": {
        "id": "VpkK2YQ1MvgU",
        "colab_type": "code",
        "colab": {}
      },
      "source": [
        "# definindo o modelo\n",
        "classificador = DecisionTreeClassifier()"
      ],
      "execution_count": 24,
      "outputs": []
    },
    {
      "cell_type": "code",
      "metadata": {
        "id": "coS4Eov2Mxk7",
        "colab_type": "code",
        "colab": {
          "base_uri": "https://localhost:8080/",
          "height": 119
        },
        "outputId": "2f777b08-fb1f-40bb-a8be-d4a655e1b7d2"
      },
      "source": [
        "# treinamento do modelo\n",
        "classificador.fit(x_train,y_train)"
      ],
      "execution_count": 25,
      "outputs": [
        {
          "output_type": "execute_result",
          "data": {
            "text/plain": [
              "DecisionTreeClassifier(ccp_alpha=0.0, class_weight=None, criterion='gini',\n",
              "                       max_depth=None, max_features=None, max_leaf_nodes=None,\n",
              "                       min_impurity_decrease=0.0, min_impurity_split=None,\n",
              "                       min_samples_leaf=1, min_samples_split=2,\n",
              "                       min_weight_fraction_leaf=0.0, presort='deprecated',\n",
              "                       random_state=None, splitter='best')"
            ]
          },
          "metadata": {
            "tags": []
          },
          "execution_count": 25
        }
      ]
    },
    {
      "cell_type": "code",
      "metadata": {
        "id": "KVnFX9uuM7ra",
        "colab_type": "code",
        "colab": {
          "base_uri": "https://localhost:8080/",
          "height": 34
        },
        "outputId": "48a9f2ce-ffcd-4295-b7f8-ca0eeedb2406"
      },
      "source": [
        "# fazendo a classificação\n",
        "classificacao = classificador.predict(x_test)\n",
        "classificacao"
      ],
      "execution_count": 26,
      "outputs": [
        {
          "output_type": "execute_result",
          "data": {
            "text/plain": [
              "array([0, 1, 1, 0, 0, 1, 1, 0, 0, 0, 1, 1])"
            ]
          },
          "metadata": {
            "tags": []
          },
          "execution_count": 26
        }
      ]
    },
    {
      "cell_type": "markdown",
      "metadata": {
        "id": "-ZZudiEENH_z",
        "colab_type": "text"
      },
      "source": [
        "## 6. Avaliando classificador"
      ]
    },
    {
      "cell_type": "code",
      "metadata": {
        "id": "aLV9ryvpNhbC",
        "colab_type": "code",
        "colab": {}
      },
      "source": [
        "# calculando acurácia\n",
        "from sklearn.metrics import accuracy_score"
      ],
      "execution_count": 27,
      "outputs": []
    },
    {
      "cell_type": "code",
      "metadata": {
        "id": "9KRDtFBmNkKp",
        "colab_type": "code",
        "colab": {
          "base_uri": "https://localhost:8080/",
          "height": 34
        },
        "outputId": "4248bb10-6bb5-4654-b66d-332c1358f32b"
      },
      "source": [
        "acuracia = accuracy_score(y_test,classificacao)\n",
        "acuracia"
      ],
      "execution_count": 28,
      "outputs": [
        {
          "output_type": "execute_result",
          "data": {
            "text/plain": [
              "1.0"
            ]
          },
          "metadata": {
            "tags": []
          },
          "execution_count": 28
        }
      ]
    },
    {
      "cell_type": "code",
      "metadata": {
        "id": "4v2QoJKoNq2h",
        "colab_type": "code",
        "colab": {}
      },
      "source": [
        "# calculando precisão\n",
        "from sklearn.metrics import precision_score"
      ],
      "execution_count": 29,
      "outputs": []
    },
    {
      "cell_type": "code",
      "metadata": {
        "id": "MrNejZPzNsXK",
        "colab_type": "code",
        "colab": {
          "base_uri": "https://localhost:8080/",
          "height": 34
        },
        "outputId": "cff3f31e-13c5-432a-c1b2-2fb1be2aef72"
      },
      "source": [
        "precisao = precision_score(y_test,classificacao)\n",
        "precisao"
      ],
      "execution_count": 30,
      "outputs": [
        {
          "output_type": "execute_result",
          "data": {
            "text/plain": [
              "1.0"
            ]
          },
          "metadata": {
            "tags": []
          },
          "execution_count": 30
        }
      ]
    },
    {
      "cell_type": "code",
      "metadata": {
        "id": "XxVJZMF4N1Xy",
        "colab_type": "code",
        "colab": {}
      },
      "source": [
        "# calculando recall (revocação)\n",
        "from sklearn.metrics import recall_score"
      ],
      "execution_count": 31,
      "outputs": []
    },
    {
      "cell_type": "code",
      "metadata": {
        "id": "xjIdPvsiN2iK",
        "colab_type": "code",
        "colab": {
          "base_uri": "https://localhost:8080/",
          "height": 34
        },
        "outputId": "fe4ed58f-0609-47fb-9e15-2067af03ffbf"
      },
      "source": [
        "recall = recall_score(y_test,classificacao)\n",
        "recall"
      ],
      "execution_count": 32,
      "outputs": [
        {
          "output_type": "execute_result",
          "data": {
            "text/plain": [
              "1.0"
            ]
          },
          "metadata": {
            "tags": []
          },
          "execution_count": 32
        }
      ]
    },
    {
      "cell_type": "code",
      "metadata": {
        "id": "akcaAa5XN4V5",
        "colab_type": "code",
        "colab": {}
      },
      "source": [
        "# calculando f1-score\n",
        "from sklearn.metrics import f1_score"
      ],
      "execution_count": 33,
      "outputs": []
    },
    {
      "cell_type": "code",
      "metadata": {
        "id": "LGKb7zsaN5pB",
        "colab_type": "code",
        "colab": {
          "base_uri": "https://localhost:8080/",
          "height": 34
        },
        "outputId": "6277f4ce-5e79-49df-b27b-1d2cd10523d7"
      },
      "source": [
        "f1 = f1_score(y_test,classificacao)\n",
        "f1"
      ],
      "execution_count": 34,
      "outputs": [
        {
          "output_type": "execute_result",
          "data": {
            "text/plain": [
              "1.0"
            ]
          },
          "metadata": {
            "tags": []
          },
          "execution_count": 34
        }
      ]
    },
    {
      "cell_type": "markdown",
      "metadata": {
        "id": "lOPw-Ri3N8xh",
        "colab_type": "text"
      },
      "source": [
        "### Curva ROC"
      ]
    },
    {
      "cell_type": "code",
      "metadata": {
        "id": "kl82mK60OCd7",
        "colab_type": "code",
        "colab": {}
      },
      "source": [
        "# plotando curva roc\n",
        "from sklearn.metrics  import roc_curve"
      ],
      "execution_count": 35,
      "outputs": []
    },
    {
      "cell_type": "code",
      "metadata": {
        "id": "Q1cbr7iPOFAZ",
        "colab_type": "code",
        "colab": {}
      },
      "source": [
        "fpr, tpr, _ = roc_curve(y_test,classificacao)"
      ],
      "execution_count": 36,
      "outputs": []
    },
    {
      "cell_type": "code",
      "metadata": {
        "id": "3j-83ZtNOG2i",
        "colab_type": "code",
        "colab": {
          "base_uri": "https://localhost:8080/",
          "height": 34
        },
        "outputId": "1893d638-3752-4ce8-dc6e-32e70b6655a1"
      },
      "source": [
        "fpr"
      ],
      "execution_count": 37,
      "outputs": [
        {
          "output_type": "execute_result",
          "data": {
            "text/plain": [
              "array([0., 0., 1.])"
            ]
          },
          "metadata": {
            "tags": []
          },
          "execution_count": 37
        }
      ]
    },
    {
      "cell_type": "code",
      "metadata": {
        "id": "Si0iNdlvOIUQ",
        "colab_type": "code",
        "colab": {
          "base_uri": "https://localhost:8080/",
          "height": 34
        },
        "outputId": "2ae31699-a959-4699-985a-a2f2b46aa183"
      },
      "source": [
        "tpr"
      ],
      "execution_count": 38,
      "outputs": [
        {
          "output_type": "execute_result",
          "data": {
            "text/plain": [
              "array([0., 1., 1.])"
            ]
          },
          "metadata": {
            "tags": []
          },
          "execution_count": 38
        }
      ]
    },
    {
      "cell_type": "code",
      "metadata": {
        "id": "G60MZyv9OKOa",
        "colab_type": "code",
        "colab": {
          "base_uri": "https://localhost:8080/",
          "height": 295
        },
        "outputId": "134e857a-9705-487f-a245-05ddbf20a406"
      },
      "source": [
        "plt.plot(fpr,tpr,marker='.')\n",
        "plt.title('Curva ROC')\n",
        "plt.xlabel('Taxa de Falsos Positivos')\n",
        "plt.ylabel('Taxa de Verdadeiro Positivos')\n",
        "plt.show()"
      ],
      "execution_count": 39,
      "outputs": [
        {
          "output_type": "display_data",
          "data": {
            "image/png": "[encoded data removed]",
            "text/plain": [
              "<Figure size 432x288 with 1 Axes>"
            ]
          },
          "metadata": {
            "tags": [],
            "needs_background": "light"
          }
        }
      ]
    },
    {
      "cell_type": "markdown",
      "metadata": {
        "id": "MtHR-WvdOVC6",
        "colab_type": "text"
      },
      "source": [
        "## Área sob a curva (*Area under the curve - AUC)*"
      ]
    },
    {
      "cell_type": "code",
      "metadata": {
        "id": "fFBVDt_UOTBa",
        "colab_type": "code",
        "colab": {}
      },
      "source": [
        "# calculando area sob a curva ROC\n",
        "from sklearn.metrics import roc_auc_score"
      ],
      "execution_count": 40,
      "outputs": []
    },
    {
      "cell_type": "code",
      "metadata": {
        "id": "jG84b0trOX2l",
        "colab_type": "code",
        "colab": {
          "base_uri": "https://localhost:8080/",
          "height": 34
        },
        "outputId": "5fb383e5-5b0e-4f84-ae59-7ce8d955132f"
      },
      "source": [
        "erro = roc_auc_score(y_test,classificacao)\n",
        "erro"
      ],
      "execution_count": 41,
      "outputs": [
        {
          "output_type": "execute_result",
          "data": {
            "text/plain": [
              "1.0"
            ]
          },
          "metadata": {
            "tags": []
          },
          "execution_count": 41
        }
      ]
    },
    {
      "cell_type": "markdown",
      "metadata": {
        "id": "qTxaMktUObCa",
        "colab_type": "text"
      },
      "source": [
        "## Validação cruzada"
      ]
    },
    {
      "cell_type": "code",
      "metadata": {
        "id": "DyPNW3MPOfPK",
        "colab_type": "code",
        "colab": {}
      },
      "source": [
        "# avaliando modelo com cross validation\n",
        "from sklearn.model_selection import cross_val_score"
      ],
      "execution_count": 42,
      "outputs": []
    },
    {
      "cell_type": "code",
      "metadata": {
        "id": "76GDSDbaOlZD",
        "colab_type": "code",
        "colab": {}
      },
      "source": [
        "# modelo\n",
        "classificador = DecisionTreeClassifier()"
      ],
      "execution_count": 43,
      "outputs": []
    },
    {
      "cell_type": "code",
      "metadata": {
        "id": "IsYvcoL3OpBl",
        "colab_type": "code",
        "colab": {
          "base_uri": "https://localhost:8080/",
          "height": 34
        },
        "outputId": "09b02fc7-a6df-4c6c-e5ca-39e42ea6bb59"
      },
      "source": [
        "# calculando os scores\n",
        "scores = cross_val_score(classificador,x,y,cv=10)\n",
        "scores"
      ],
      "execution_count": 44,
      "outputs": [
        {
          "output_type": "execute_result",
          "data": {
            "text/plain": [
              "array([1., 1., 1., 1., 1., 1., 1., 1., 1., 1.])"
            ]
          },
          "metadata": {
            "tags": []
          },
          "execution_count": 44
        }
      ]
    },
    {
      "cell_type": "code",
      "metadata": {
        "id": "VJ8btCwtOrEK",
        "colab_type": "code",
        "colab": {
          "base_uri": "https://localhost:8080/",
          "height": 34
        },
        "outputId": "3ce41802-04d0-4821-a1dd-72b92d1f21a9"
      },
      "source": [
        "scores.mean(),scores.std()"
      ],
      "execution_count": 45,
      "outputs": [
        {
          "output_type": "execute_result",
          "data": {
            "text/plain": [
              "(1.0, 0.0)"
            ]
          },
          "metadata": {
            "tags": []
          },
          "execution_count": 45
        }
      ]
    },
    {
      "cell_type": "markdown",
      "metadata": {
        "id": "j_C-69XyO86C",
        "colab_type": "text"
      },
      "source": [
        "## 8. Comparando Árvore de Decisão com Random Forest"
      ]
    },
    {
      "cell_type": "code",
      "metadata": {
        "id": "OExBSqd9O-Eq",
        "colab_type": "code",
        "colab": {}
      },
      "source": [
        "from sklearn.tree import DecisionTreeClassifier\n",
        "from sklearn.ensemble import RandomForestClassifier"
      ],
      "execution_count": 46,
      "outputs": []
    },
    {
      "cell_type": "code",
      "metadata": {
        "id": "cbs77d3DPCQk",
        "colab_type": "code",
        "colab": {}
      },
      "source": [
        "# criando árvore\n",
        "arvore = DecisionTreeClassifier()"
      ],
      "execution_count": 47,
      "outputs": []
    },
    {
      "cell_type": "code",
      "metadata": {
        "id": "pQrzBHqrPFCT",
        "colab_type": "code",
        "colab": {}
      },
      "source": [
        "# calculando os scores\n",
        "scores_arvore = cross_val_score(arvore,x,y,cv=10)"
      ],
      "execution_count": 48,
      "outputs": []
    },
    {
      "cell_type": "code",
      "metadata": {
        "id": "oDgamLVoPKZ8",
        "colab_type": "code",
        "colab": {}
      },
      "source": [
        "# criando random forest\n",
        "floresta = RandomForestClassifier()"
      ],
      "execution_count": 49,
      "outputs": []
    },
    {
      "cell_type": "code",
      "metadata": {
        "id": "R_f0vuLKPNBO",
        "colab_type": "code",
        "colab": {}
      },
      "source": [
        "# calculando os scores\n",
        "scores_floresta = cross_val_score(floresta,x,y,cv=10)"
      ],
      "execution_count": 50,
      "outputs": []
    },
    {
      "cell_type": "code",
      "metadata": {
        "id": "ftQHns1MPOxr",
        "colab_type": "code",
        "colab": {}
      },
      "source": [
        "# criando rede neural\n",
        "mlp = MLPClassifier(hidden_layer_sizes=(25),activation='logistic',max_iter=50)"
      ],
      "execution_count": 55,
      "outputs": []
    },
    {
      "cell_type": "code",
      "metadata": {
        "id": "3G0fWJ4SPakS",
        "colab_type": "code",
        "colab": {}
      },
      "source": [
        "# calculando os scores\n",
        "scores_mlp = cross_val_score(mlp,x,y,cv=10)"
      ],
      "execution_count": null,
      "outputs": []
    },
    {
      "cell_type": "code",
      "metadata": {
        "id": "-ZGPb1n8Pg7z",
        "colab_type": "code",
        "colab": {
          "base_uri": "https://localhost:8080/",
          "height": 68
        },
        "outputId": "6b36bf72-1c1b-4b85-f3ff-a88ba03ad17a"
      },
      "source": [
        "print('Árvore de Decisão: ', round(scores_arvore.mean(),3),round(scores_arvore.std(),3))\n",
        "print('Random Forest: ', round(scores.mean(),3),round(scores.std(),3))\n",
        "print('MLP:', round(scores_mlp.mean(),3),round(scores_mlp.std(),3))"
      ],
      "execution_count": 57,
      "outputs": [
        {
          "output_type": "stream",
          "text": [
            "Árvore de Decisão:  1.0 0.0\n",
            "Random Forest:  1.0 0.0\n",
            "MLP: 0.827 0.139\n"
          ],
          "name": "stdout"
        }
      ]
    },
    {
      "cell_type": "markdown",
      "metadata": {
        "id": "JoBAbWtcPlir",
        "colab_type": "text"
      },
      "source": [
        "## 9. Otimização de Parâmetros"
      ]
    }
  ]
}